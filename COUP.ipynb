{
 "cells": [
  {
   "cell_type": "code",
   "execution_count": 3,
   "metadata": {},
   "outputs": [],
   "source": [
    "class Coup:\n",
    "\n",
    "    def __init__(self, player_count):\n",
    "        \n",
    "        self.player_count = player_count\n",
    "        \n",
    "        #assign players\n",
    "        self.players = [self.assign_player() for i in range(0, player_count)]\n",
    "\n",
    "    @classmethod\n",
    "    def from_string(cls, player_string):\n",
    "        # P1P2 Am Ca Du Co As\n",
    "\n",
    "        return cls()  \n",
    "\n",
    "\n",
    "    def start_game(self):\n",
    "        \n",
    "        self.player()\n",
    "\n",
    "    def assign_player(self):\n",
    "\n",
    "        return None\n",
    "\n",
    "    \n",
    "\n",
    "# class Player:\n",
    "\n",
    "#     def __init__(self):\n",
    "        \n",
    "#         # self.\n",
    "\n",
    "\n",
    "#     def Ambassdor():\n",
    "\n",
    "#     def Captain():\n",
    "\n",
    "#     def Duke():\n",
    "\n",
    "#     def Contessa():\n",
    "\n",
    "#     def Assasin():\n",
    "        \n",
    "\n",
    "\n",
    "\n",
    "\n",
    "\n",
    "\n"
   ]
  },
  {
   "cell_type": "code",
   "execution_count": 4,
   "metadata": {},
   "outputs": [],
   "source": [
    "GAME = Coup(4)"
   ]
  },
  {
   "cell_type": "code",
   "execution_count": 5,
   "metadata": {},
   "outputs": [
    {
     "data": {
      "text/plain": [
       "4"
      ]
     },
     "execution_count": 5,
     "metadata": {},
     "output_type": "execute_result"
    }
   ],
   "source": [
    "GAME.player_count"
   ]
  },
  {
   "cell_type": "code",
   "execution_count": null,
   "metadata": {},
   "outputs": [],
   "source": []
  }
 ],
 "metadata": {
  "kernelspec": {
   "display_name": "Python 3.9.6 64-bit",
   "language": "python",
   "name": "python3"
  },
  "language_info": {
   "codemirror_mode": {
    "name": "ipython",
    "version": 3
   },
   "file_extension": ".py",
   "mimetype": "text/x-python",
   "name": "python",
   "nbconvert_exporter": "python",
   "pygments_lexer": "ipython3",
   "version": "3.9.6"
  },
  "orig_nbformat": 4,
  "vscode": {
   "interpreter": {
    "hash": "747e6a8175706aebaba4e6e609db6eb3a3b9b2784447383dcdde7268b325a441"
   }
  }
 },
 "nbformat": 4,
 "nbformat_minor": 2
}
